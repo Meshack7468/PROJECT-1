{
 "cells": [
  {
   "cell_type": "markdown",
   "id": "378b49fc-75de-4a3e-b76e-278343d26c81",
   "metadata": {},
   "source": [
    "# AIRCRAFT RISK ANALYSIS"
   ]
  },
  {
   "cell_type": "markdown",
   "id": "4106c5a6-f0c8-4b2a-b260-924fc5392af9",
   "metadata": {},
   "source": [
    "## OVERVIEW"
   ]
  },
  {
   "cell_type": "markdown",
   "id": "45371ffa-03a1-423e-bf49-249ca7bec529",
   "metadata": {},
   "source": [
    "This project analyzes aviation accidents from the National Transportation Safety Board(NTSB), covering incidents from 1962 to 2023. The goal is to identify low risk aircrafts that the company can consider for purchase as it ventures into commercial and private entreprise by cleaning, sorting, grouping, aggregatting data, we extract insight for strategic decision making of aircraft acquisiotion"
   ]
  },
  {
   "cell_type": "markdown",
   "id": "c0d76b0a-5e33-4943-b41c-1c9b7a5cd45d",
   "metadata": {},
   "source": [
    "## BUSINESS PROBLEM"
   ]
  },
  {
   "cell_type": "markdown",
   "id": "a0be07c5-7c30-4a9d-b7e8-943e43819d7f",
   "metadata": {},
   "source": [
    "The company is entering the aviation industry. However, they lack insight into the historical safety performance of different aircraft. The goal of this analysis is to identify aircrafts with low accidents, considering the provided factors and give recommendations on the safest and suitable aircrafts"
   ]
  },
  {
   "cell_type": "markdown",
   "id": "586fbb0f-5052-4d36-a03f-caf67760e879",
   "metadata": {},
   "source": [
    "## DATA UNDERSTANDING"
   ]
  },
  {
   "cell_type": "markdown",
   "id": "ed42a200-723a-4e83-9db1-415e3ce99795",
   "metadata": {},
   "source": [
    "The dataset comes from National Transportation Safety Board(NTSB) and contains aviation accidents from 1962 to 2023. the dataset contain information on:\n",
    "\n",
    "1. 'Event'.'Date': Date of the incident,accident \n",
    "2. 'Make', 'Model': manufacturer and aircraft model \n",
    "3. 'Injury Severity' : Fatal, Serious, minor injuries \n",
    "4. 'Total Fatal Injuries', 'Total Serious Injuries', 'Total Minor Injuries', 'Total Uninjered'\n",
    "5. 'Purpose of flight': Purpose such as business, personal \n",
    "6. 'Weather condition' \n",
    "7. 'Broad phase of flight' : such as Takeoff, cruise, landing... \n",
    "8. 'Aircraft damage': extent of damage of the the aircraft \n",
    "9. 'Engine Type', 'Number of Engines'\n",
    "\n",
    "The key measure variables used are:\n",
    "\n",
    "'Total.Fatal.Injuries': accidents that caused death, 'Total.serious.Injuries' : accidents that caused servier injuries, 'Total.Minor.Injuries' : accidents that caused minor injuries, 'Total.Uninjered' : accidents that did not cause injuries.\n"
   ]
  },
  {
   "cell_type": "code",
   "execution_count": 84,
   "id": "0bac2457-34a3-4b35-bfa3-49cdcd410a6e",
   "metadata": {},
   "outputs": [],
   "source": [
    "import pandas as pd\n",
    "import matplotlib.pyplot as plt\n",
    "import seaborn as sns\n",
    "import numpy as np"
   ]
  },
  {
   "cell_type": "code",
   "execution_count": 85,
   "id": "9b62f041-9e0c-45d6-b785-89860710fd9c",
   "metadata": {},
   "outputs": [
    {
     "data": {
      "text/html": [
       "<div>\n",
       "<style scoped>\n",
       "    .dataframe tbody tr th:only-of-type {\n",
       "        vertical-align: middle;\n",
       "    }\n",
       "\n",
       "    .dataframe tbody tr th {\n",
       "        vertical-align: top;\n",
       "    }\n",
       "\n",
       "    .dataframe thead th {\n",
       "        text-align: right;\n",
       "    }\n",
       "</style>\n",
       "<table border=\"1\" class=\"dataframe\">\n",
       "  <thead>\n",
       "    <tr style=\"text-align: right;\">\n",
       "      <th></th>\n",
       "      <th>Event.Id</th>\n",
       "      <th>Investigation.Type</th>\n",
       "      <th>Accident.Number</th>\n",
       "      <th>Event.Date</th>\n",
       "      <th>Location</th>\n",
       "      <th>Country</th>\n",
       "      <th>Latitude</th>\n",
       "      <th>Longitude</th>\n",
       "      <th>Airport.Code</th>\n",
       "      <th>Airport.Name</th>\n",
       "      <th>...</th>\n",
       "      <th>Purpose.of.flight</th>\n",
       "      <th>Air.carrier</th>\n",
       "      <th>Total.Fatal.Injuries</th>\n",
       "      <th>Total.Serious.Injuries</th>\n",
       "      <th>Total.Minor.Injuries</th>\n",
       "      <th>Total.Uninjured</th>\n",
       "      <th>Weather.Condition</th>\n",
       "      <th>Broad.phase.of.flight</th>\n",
       "      <th>Report.Status</th>\n",
       "      <th>Publication.Date</th>\n",
       "    </tr>\n",
       "  </thead>\n",
       "  <tbody>\n",
       "    <tr>\n",
       "      <th>0</th>\n",
       "      <td>20001218X45444</td>\n",
       "      <td>Accident</td>\n",
       "      <td>SEA87LA080</td>\n",
       "      <td>1948-10-24</td>\n",
       "      <td>MOOSE CREEK, ID</td>\n",
       "      <td>United States</td>\n",
       "      <td>NaN</td>\n",
       "      <td>NaN</td>\n",
       "      <td>NaN</td>\n",
       "      <td>NaN</td>\n",
       "      <td>...</td>\n",
       "      <td>Personal</td>\n",
       "      <td>NaN</td>\n",
       "      <td>2.0</td>\n",
       "      <td>0.0</td>\n",
       "      <td>0.0</td>\n",
       "      <td>0.0</td>\n",
       "      <td>UNK</td>\n",
       "      <td>Cruise</td>\n",
       "      <td>Probable Cause</td>\n",
       "      <td>NaN</td>\n",
       "    </tr>\n",
       "    <tr>\n",
       "      <th>1</th>\n",
       "      <td>20001218X45447</td>\n",
       "      <td>Accident</td>\n",
       "      <td>LAX94LA336</td>\n",
       "      <td>1962-07-19</td>\n",
       "      <td>BRIDGEPORT, CA</td>\n",
       "      <td>United States</td>\n",
       "      <td>NaN</td>\n",
       "      <td>NaN</td>\n",
       "      <td>NaN</td>\n",
       "      <td>NaN</td>\n",
       "      <td>...</td>\n",
       "      <td>Personal</td>\n",
       "      <td>NaN</td>\n",
       "      <td>4.0</td>\n",
       "      <td>0.0</td>\n",
       "      <td>0.0</td>\n",
       "      <td>0.0</td>\n",
       "      <td>UNK</td>\n",
       "      <td>Unknown</td>\n",
       "      <td>Probable Cause</td>\n",
       "      <td>19-09-1996</td>\n",
       "    </tr>\n",
       "    <tr>\n",
       "      <th>2</th>\n",
       "      <td>20061025X01555</td>\n",
       "      <td>Accident</td>\n",
       "      <td>NYC07LA005</td>\n",
       "      <td>1974-08-30</td>\n",
       "      <td>Saltville, VA</td>\n",
       "      <td>United States</td>\n",
       "      <td>36.922223</td>\n",
       "      <td>-81.878056</td>\n",
       "      <td>NaN</td>\n",
       "      <td>NaN</td>\n",
       "      <td>...</td>\n",
       "      <td>Personal</td>\n",
       "      <td>NaN</td>\n",
       "      <td>3.0</td>\n",
       "      <td>NaN</td>\n",
       "      <td>NaN</td>\n",
       "      <td>NaN</td>\n",
       "      <td>IMC</td>\n",
       "      <td>Cruise</td>\n",
       "      <td>Probable Cause</td>\n",
       "      <td>26-02-2007</td>\n",
       "    </tr>\n",
       "    <tr>\n",
       "      <th>3</th>\n",
       "      <td>20001218X45448</td>\n",
       "      <td>Accident</td>\n",
       "      <td>LAX96LA321</td>\n",
       "      <td>1977-06-19</td>\n",
       "      <td>EUREKA, CA</td>\n",
       "      <td>United States</td>\n",
       "      <td>NaN</td>\n",
       "      <td>NaN</td>\n",
       "      <td>NaN</td>\n",
       "      <td>NaN</td>\n",
       "      <td>...</td>\n",
       "      <td>Personal</td>\n",
       "      <td>NaN</td>\n",
       "      <td>2.0</td>\n",
       "      <td>0.0</td>\n",
       "      <td>0.0</td>\n",
       "      <td>0.0</td>\n",
       "      <td>IMC</td>\n",
       "      <td>Cruise</td>\n",
       "      <td>Probable Cause</td>\n",
       "      <td>12-09-2000</td>\n",
       "    </tr>\n",
       "    <tr>\n",
       "      <th>4</th>\n",
       "      <td>20041105X01764</td>\n",
       "      <td>Accident</td>\n",
       "      <td>CHI79FA064</td>\n",
       "      <td>1979-08-02</td>\n",
       "      <td>Canton, OH</td>\n",
       "      <td>United States</td>\n",
       "      <td>NaN</td>\n",
       "      <td>NaN</td>\n",
       "      <td>NaN</td>\n",
       "      <td>NaN</td>\n",
       "      <td>...</td>\n",
       "      <td>Personal</td>\n",
       "      <td>NaN</td>\n",
       "      <td>1.0</td>\n",
       "      <td>2.0</td>\n",
       "      <td>NaN</td>\n",
       "      <td>0.0</td>\n",
       "      <td>VMC</td>\n",
       "      <td>Approach</td>\n",
       "      <td>Probable Cause</td>\n",
       "      <td>16-04-1980</td>\n",
       "    </tr>\n",
       "    <tr>\n",
       "      <th>...</th>\n",
       "      <td>...</td>\n",
       "      <td>...</td>\n",
       "      <td>...</td>\n",
       "      <td>...</td>\n",
       "      <td>...</td>\n",
       "      <td>...</td>\n",
       "      <td>...</td>\n",
       "      <td>...</td>\n",
       "      <td>...</td>\n",
       "      <td>...</td>\n",
       "      <td>...</td>\n",
       "      <td>...</td>\n",
       "      <td>...</td>\n",
       "      <td>...</td>\n",
       "      <td>...</td>\n",
       "      <td>...</td>\n",
       "      <td>...</td>\n",
       "      <td>...</td>\n",
       "      <td>...</td>\n",
       "      <td>...</td>\n",
       "      <td>...</td>\n",
       "    </tr>\n",
       "    <tr>\n",
       "      <th>88884</th>\n",
       "      <td>20221227106491</td>\n",
       "      <td>Accident</td>\n",
       "      <td>ERA23LA093</td>\n",
       "      <td>2022-12-26</td>\n",
       "      <td>Annapolis, MD</td>\n",
       "      <td>United States</td>\n",
       "      <td>NaN</td>\n",
       "      <td>NaN</td>\n",
       "      <td>NaN</td>\n",
       "      <td>NaN</td>\n",
       "      <td>...</td>\n",
       "      <td>Personal</td>\n",
       "      <td>NaN</td>\n",
       "      <td>0.0</td>\n",
       "      <td>1.0</td>\n",
       "      <td>0.0</td>\n",
       "      <td>0.0</td>\n",
       "      <td>NaN</td>\n",
       "      <td>NaN</td>\n",
       "      <td>NaN</td>\n",
       "      <td>29-12-2022</td>\n",
       "    </tr>\n",
       "    <tr>\n",
       "      <th>88885</th>\n",
       "      <td>20221227106494</td>\n",
       "      <td>Accident</td>\n",
       "      <td>ERA23LA095</td>\n",
       "      <td>2022-12-26</td>\n",
       "      <td>Hampton, NH</td>\n",
       "      <td>United States</td>\n",
       "      <td>NaN</td>\n",
       "      <td>NaN</td>\n",
       "      <td>NaN</td>\n",
       "      <td>NaN</td>\n",
       "      <td>...</td>\n",
       "      <td>NaN</td>\n",
       "      <td>NaN</td>\n",
       "      <td>0.0</td>\n",
       "      <td>0.0</td>\n",
       "      <td>0.0</td>\n",
       "      <td>0.0</td>\n",
       "      <td>NaN</td>\n",
       "      <td>NaN</td>\n",
       "      <td>NaN</td>\n",
       "      <td>NaN</td>\n",
       "    </tr>\n",
       "    <tr>\n",
       "      <th>88886</th>\n",
       "      <td>20221227106497</td>\n",
       "      <td>Accident</td>\n",
       "      <td>WPR23LA075</td>\n",
       "      <td>2022-12-26</td>\n",
       "      <td>Payson, AZ</td>\n",
       "      <td>United States</td>\n",
       "      <td>341525N</td>\n",
       "      <td>1112021W</td>\n",
       "      <td>PAN</td>\n",
       "      <td>PAYSON</td>\n",
       "      <td>...</td>\n",
       "      <td>Personal</td>\n",
       "      <td>NaN</td>\n",
       "      <td>0.0</td>\n",
       "      <td>0.0</td>\n",
       "      <td>0.0</td>\n",
       "      <td>1.0</td>\n",
       "      <td>VMC</td>\n",
       "      <td>NaN</td>\n",
       "      <td>NaN</td>\n",
       "      <td>27-12-2022</td>\n",
       "    </tr>\n",
       "    <tr>\n",
       "      <th>88887</th>\n",
       "      <td>20221227106498</td>\n",
       "      <td>Accident</td>\n",
       "      <td>WPR23LA076</td>\n",
       "      <td>2022-12-26</td>\n",
       "      <td>Morgan, UT</td>\n",
       "      <td>United States</td>\n",
       "      <td>NaN</td>\n",
       "      <td>NaN</td>\n",
       "      <td>NaN</td>\n",
       "      <td>NaN</td>\n",
       "      <td>...</td>\n",
       "      <td>Personal</td>\n",
       "      <td>MC CESSNA 210N LLC</td>\n",
       "      <td>0.0</td>\n",
       "      <td>0.0</td>\n",
       "      <td>0.0</td>\n",
       "      <td>0.0</td>\n",
       "      <td>NaN</td>\n",
       "      <td>NaN</td>\n",
       "      <td>NaN</td>\n",
       "      <td>NaN</td>\n",
       "    </tr>\n",
       "    <tr>\n",
       "      <th>88888</th>\n",
       "      <td>20221230106513</td>\n",
       "      <td>Accident</td>\n",
       "      <td>ERA23LA097</td>\n",
       "      <td>2022-12-29</td>\n",
       "      <td>Athens, GA</td>\n",
       "      <td>United States</td>\n",
       "      <td>NaN</td>\n",
       "      <td>NaN</td>\n",
       "      <td>NaN</td>\n",
       "      <td>NaN</td>\n",
       "      <td>...</td>\n",
       "      <td>Personal</td>\n",
       "      <td>NaN</td>\n",
       "      <td>0.0</td>\n",
       "      <td>1.0</td>\n",
       "      <td>0.0</td>\n",
       "      <td>1.0</td>\n",
       "      <td>NaN</td>\n",
       "      <td>NaN</td>\n",
       "      <td>NaN</td>\n",
       "      <td>30-12-2022</td>\n",
       "    </tr>\n",
       "  </tbody>\n",
       "</table>\n",
       "<p>88889 rows × 31 columns</p>\n",
       "</div>"
      ],
      "text/plain": [
       "             Event.Id Investigation.Type Accident.Number  Event.Date  \\\n",
       "0      20001218X45444           Accident      SEA87LA080  1948-10-24   \n",
       "1      20001218X45447           Accident      LAX94LA336  1962-07-19   \n",
       "2      20061025X01555           Accident      NYC07LA005  1974-08-30   \n",
       "3      20001218X45448           Accident      LAX96LA321  1977-06-19   \n",
       "4      20041105X01764           Accident      CHI79FA064  1979-08-02   \n",
       "...               ...                ...             ...         ...   \n",
       "88884  20221227106491           Accident      ERA23LA093  2022-12-26   \n",
       "88885  20221227106494           Accident      ERA23LA095  2022-12-26   \n",
       "88886  20221227106497           Accident      WPR23LA075  2022-12-26   \n",
       "88887  20221227106498           Accident      WPR23LA076  2022-12-26   \n",
       "88888  20221230106513           Accident      ERA23LA097  2022-12-29   \n",
       "\n",
       "              Location        Country   Latitude   Longitude Airport.Code  \\\n",
       "0      MOOSE CREEK, ID  United States        NaN         NaN          NaN   \n",
       "1       BRIDGEPORT, CA  United States        NaN         NaN          NaN   \n",
       "2        Saltville, VA  United States  36.922223  -81.878056          NaN   \n",
       "3           EUREKA, CA  United States        NaN         NaN          NaN   \n",
       "4           Canton, OH  United States        NaN         NaN          NaN   \n",
       "...                ...            ...        ...         ...          ...   \n",
       "88884    Annapolis, MD  United States        NaN         NaN          NaN   \n",
       "88885      Hampton, NH  United States        NaN         NaN          NaN   \n",
       "88886       Payson, AZ  United States    341525N    1112021W          PAN   \n",
       "88887       Morgan, UT  United States        NaN         NaN          NaN   \n",
       "88888       Athens, GA  United States        NaN         NaN          NaN   \n",
       "\n",
       "      Airport.Name  ... Purpose.of.flight         Air.carrier  \\\n",
       "0              NaN  ...          Personal                 NaN   \n",
       "1              NaN  ...          Personal                 NaN   \n",
       "2              NaN  ...          Personal                 NaN   \n",
       "3              NaN  ...          Personal                 NaN   \n",
       "4              NaN  ...          Personal                 NaN   \n",
       "...            ...  ...               ...                 ...   \n",
       "88884          NaN  ...          Personal                 NaN   \n",
       "88885          NaN  ...               NaN                 NaN   \n",
       "88886       PAYSON  ...          Personal                 NaN   \n",
       "88887          NaN  ...          Personal  MC CESSNA 210N LLC   \n",
       "88888          NaN  ...          Personal                 NaN   \n",
       "\n",
       "      Total.Fatal.Injuries Total.Serious.Injuries Total.Minor.Injuries  \\\n",
       "0                      2.0                    0.0                  0.0   \n",
       "1                      4.0                    0.0                  0.0   \n",
       "2                      3.0                    NaN                  NaN   \n",
       "3                      2.0                    0.0                  0.0   \n",
       "4                      1.0                    2.0                  NaN   \n",
       "...                    ...                    ...                  ...   \n",
       "88884                  0.0                    1.0                  0.0   \n",
       "88885                  0.0                    0.0                  0.0   \n",
       "88886                  0.0                    0.0                  0.0   \n",
       "88887                  0.0                    0.0                  0.0   \n",
       "88888                  0.0                    1.0                  0.0   \n",
       "\n",
       "      Total.Uninjured Weather.Condition  Broad.phase.of.flight  \\\n",
       "0                 0.0               UNK                 Cruise   \n",
       "1                 0.0               UNK                Unknown   \n",
       "2                 NaN               IMC                 Cruise   \n",
       "3                 0.0               IMC                 Cruise   \n",
       "4                 0.0               VMC               Approach   \n",
       "...               ...               ...                    ...   \n",
       "88884             0.0               NaN                    NaN   \n",
       "88885             0.0               NaN                    NaN   \n",
       "88886             1.0               VMC                    NaN   \n",
       "88887             0.0               NaN                    NaN   \n",
       "88888             1.0               NaN                    NaN   \n",
       "\n",
       "        Report.Status Publication.Date  \n",
       "0      Probable Cause              NaN  \n",
       "1      Probable Cause       19-09-1996  \n",
       "2      Probable Cause       26-02-2007  \n",
       "3      Probable Cause       12-09-2000  \n",
       "4      Probable Cause       16-04-1980  \n",
       "...               ...              ...  \n",
       "88884             NaN       29-12-2022  \n",
       "88885             NaN              NaN  \n",
       "88886             NaN       27-12-2022  \n",
       "88887             NaN              NaN  \n",
       "88888             NaN       30-12-2022  \n",
       "\n",
       "[88889 rows x 31 columns]"
      ]
     },
     "execution_count": 85,
     "metadata": {},
     "output_type": "execute_result"
    }
   ],
   "source": [
    "df = pd.read_csv(\"./Data/AviationData.csv\", encoding = \"ISO-8859-1\",low_memory=False)\n",
    "df"
   ]
  },
  {
   "cell_type": "code",
   "execution_count": 86,
   "id": "6c6c777c-fb82-4271-829c-60334eaee38d",
   "metadata": {},
   "outputs": [
    {
     "data": {
      "text/plain": [
       "(88889, 31)"
      ]
     },
     "execution_count": 86,
     "metadata": {},
     "output_type": "execute_result"
    }
   ],
   "source": [
    "# checking the size of our dataset\n",
    "df.shape"
   ]
  },
  {
   "cell_type": "code",
   "execution_count": 87,
   "id": "2aa1ba7a-3189-4a1c-9182-360a80472a52",
   "metadata": {},
   "outputs": [
    {
     "data": {
      "text/plain": [
       "Index(['Event.Id', 'Investigation.Type', 'Accident.Number', 'Event.Date',\n",
       "       'Location', 'Country', 'Latitude', 'Longitude', 'Airport.Code',\n",
       "       'Airport.Name', 'Injury.Severity', 'Aircraft.damage',\n",
       "       'Aircraft.Category', 'Registration.Number', 'Make', 'Model',\n",
       "       'Amateur.Built', 'Number.of.Engines', 'Engine.Type', 'FAR.Description',\n",
       "       'Schedule', 'Purpose.of.flight', 'Air.carrier', 'Total.Fatal.Injuries',\n",
       "       'Total.Serious.Injuries', 'Total.Minor.Injuries', 'Total.Uninjured',\n",
       "       'Weather.Condition', 'Broad.phase.of.flight', 'Report.Status',\n",
       "       'Publication.Date'],\n",
       "      dtype='object')"
      ]
     },
     "execution_count": 87,
     "metadata": {},
     "output_type": "execute_result"
    }
   ],
   "source": [
    "df.columns"
   ]
  },
  {
   "cell_type": "markdown",
   "id": "ca93fa22-19f5-4bda-a67a-b582bfaa32c1",
   "metadata": {},
   "source": [
    "# DATA PREPARATION"
   ]
  },
  {
   "cell_type": "markdown",
   "id": "87382fe3-ba4c-4fca-9b49-6bba129324cb",
   "metadata": {},
   "source": [
    "# Data cleaning"
   ]
  },
  {
   "cell_type": "code",
   "execution_count": 88,
   "id": "4aedf987-bde5-4bc1-87f0-159041ac1c98",
   "metadata": {},
   "outputs": [],
   "source": [
    "# Dropping empty and irrelevant columns\n",
    "df.drop(columns=[\n",
    "    'Event.Id','Accident.Number','Airport.Name','Airport.Code',\n",
    "    'Latitude','Longitude','Registration.Number','FAR.Description',\n",
    "    'Schedule','Air.carrier','Report.Status','Publication.Date',\n",
    "    'Country'], inplace=True)"
   ]
  },
  {
   "cell_type": "code",
   "execution_count": 89,
   "id": "7c2bdcf9-83a5-454e-8b56-b1d7094382db",
   "metadata": {},
   "outputs": [
    {
     "data": {
      "text/plain": [
       "(88889, 18)"
      ]
     },
     "execution_count": 89,
     "metadata": {},
     "output_type": "execute_result"
    }
   ],
   "source": [
    "df.shape"
   ]
  },
  {
   "cell_type": "markdown",
   "id": "61724d79-a449-4da6-aedc-a8a349f52fa4",
   "metadata": {},
   "source": [
    "Data cleaning aircraft Make and Model column"
   ]
  },
  {
   "cell_type": "code",
   "execution_count": 90,
   "id": "2383ba2a-d671-4d95-9bf5-5edfcc1bc10d",
   "metadata": {},
   "outputs": [],
   "source": [
    "# Filling nan value with unknowm \n",
    "df.loc[:,\"Model\"]=df[\"Model\"].fillna(\"Unknown\").str.strip().str.upper()\n",
    "df.loc[:,\"Make\"]=df[\"Make\"].fillna(\"Unknown\").str.strip().str.upper()"
   ]
  },
  {
   "cell_type": "code",
   "execution_count": 91,
   "id": "9ac6302c-ac7c-4f25-9435-7004e3cbe454",
   "metadata": {},
   "outputs": [
    {
     "data": {
      "text/html": [
       "<div>\n",
       "<style scoped>\n",
       "    .dataframe tbody tr th:only-of-type {\n",
       "        vertical-align: middle;\n",
       "    }\n",
       "\n",
       "    .dataframe tbody tr th {\n",
       "        vertical-align: top;\n",
       "    }\n",
       "\n",
       "    .dataframe thead th {\n",
       "        text-align: right;\n",
       "    }\n",
       "</style>\n",
       "<table border=\"1\" class=\"dataframe\">\n",
       "  <thead>\n",
       "    <tr style=\"text-align: right;\">\n",
       "      <th></th>\n",
       "      <th>Investigation.Type</th>\n",
       "      <th>Event.Date</th>\n",
       "      <th>Location</th>\n",
       "      <th>Injury.Severity</th>\n",
       "      <th>Aircraft.damage</th>\n",
       "      <th>Aircraft.Category</th>\n",
       "      <th>Make</th>\n",
       "      <th>Model</th>\n",
       "      <th>Amateur.Built</th>\n",
       "      <th>Number.of.Engines</th>\n",
       "      <th>Engine.Type</th>\n",
       "      <th>Purpose.of.flight</th>\n",
       "      <th>Total.Fatal.Injuries</th>\n",
       "      <th>Total.Serious.Injuries</th>\n",
       "      <th>Total.Minor.Injuries</th>\n",
       "      <th>Total.Uninjured</th>\n",
       "      <th>Weather.Condition</th>\n",
       "      <th>Broad.phase.of.flight</th>\n",
       "      <th>Make_Model</th>\n",
       "    </tr>\n",
       "  </thead>\n",
       "  <tbody>\n",
       "    <tr>\n",
       "      <th>0</th>\n",
       "      <td>Accident</td>\n",
       "      <td>1948-10-24</td>\n",
       "      <td>MOOSE CREEK, ID</td>\n",
       "      <td>Fatal(2)</td>\n",
       "      <td>Destroyed</td>\n",
       "      <td>NaN</td>\n",
       "      <td>STINSON</td>\n",
       "      <td>108-3</td>\n",
       "      <td>No</td>\n",
       "      <td>1.0</td>\n",
       "      <td>Reciprocating</td>\n",
       "      <td>Personal</td>\n",
       "      <td>2.0</td>\n",
       "      <td>0.0</td>\n",
       "      <td>0.0</td>\n",
       "      <td>0.0</td>\n",
       "      <td>UNK</td>\n",
       "      <td>Cruise</td>\n",
       "      <td>STINSON 108-3</td>\n",
       "    </tr>\n",
       "    <tr>\n",
       "      <th>1</th>\n",
       "      <td>Accident</td>\n",
       "      <td>1962-07-19</td>\n",
       "      <td>BRIDGEPORT, CA</td>\n",
       "      <td>Fatal(4)</td>\n",
       "      <td>Destroyed</td>\n",
       "      <td>NaN</td>\n",
       "      <td>PIPER</td>\n",
       "      <td>PA24-180</td>\n",
       "      <td>No</td>\n",
       "      <td>1.0</td>\n",
       "      <td>Reciprocating</td>\n",
       "      <td>Personal</td>\n",
       "      <td>4.0</td>\n",
       "      <td>0.0</td>\n",
       "      <td>0.0</td>\n",
       "      <td>0.0</td>\n",
       "      <td>UNK</td>\n",
       "      <td>Unknown</td>\n",
       "      <td>PIPER PA24-180</td>\n",
       "    </tr>\n",
       "    <tr>\n",
       "      <th>2</th>\n",
       "      <td>Accident</td>\n",
       "      <td>1974-08-30</td>\n",
       "      <td>Saltville, VA</td>\n",
       "      <td>Fatal(3)</td>\n",
       "      <td>Destroyed</td>\n",
       "      <td>NaN</td>\n",
       "      <td>CESSNA</td>\n",
       "      <td>172M</td>\n",
       "      <td>No</td>\n",
       "      <td>1.0</td>\n",
       "      <td>Reciprocating</td>\n",
       "      <td>Personal</td>\n",
       "      <td>3.0</td>\n",
       "      <td>NaN</td>\n",
       "      <td>NaN</td>\n",
       "      <td>NaN</td>\n",
       "      <td>IMC</td>\n",
       "      <td>Cruise</td>\n",
       "      <td>CESSNA 172M</td>\n",
       "    </tr>\n",
       "    <tr>\n",
       "      <th>3</th>\n",
       "      <td>Accident</td>\n",
       "      <td>1977-06-19</td>\n",
       "      <td>EUREKA, CA</td>\n",
       "      <td>Fatal(2)</td>\n",
       "      <td>Destroyed</td>\n",
       "      <td>NaN</td>\n",
       "      <td>ROCKWELL</td>\n",
       "      <td>112</td>\n",
       "      <td>No</td>\n",
       "      <td>1.0</td>\n",
       "      <td>Reciprocating</td>\n",
       "      <td>Personal</td>\n",
       "      <td>2.0</td>\n",
       "      <td>0.0</td>\n",
       "      <td>0.0</td>\n",
       "      <td>0.0</td>\n",
       "      <td>IMC</td>\n",
       "      <td>Cruise</td>\n",
       "      <td>ROCKWELL 112</td>\n",
       "    </tr>\n",
       "    <tr>\n",
       "      <th>4</th>\n",
       "      <td>Accident</td>\n",
       "      <td>1979-08-02</td>\n",
       "      <td>Canton, OH</td>\n",
       "      <td>Fatal(1)</td>\n",
       "      <td>Destroyed</td>\n",
       "      <td>NaN</td>\n",
       "      <td>CESSNA</td>\n",
       "      <td>501</td>\n",
       "      <td>No</td>\n",
       "      <td>NaN</td>\n",
       "      <td>NaN</td>\n",
       "      <td>Personal</td>\n",
       "      <td>1.0</td>\n",
       "      <td>2.0</td>\n",
       "      <td>NaN</td>\n",
       "      <td>0.0</td>\n",
       "      <td>VMC</td>\n",
       "      <td>Approach</td>\n",
       "      <td>CESSNA 501</td>\n",
       "    </tr>\n",
       "    <tr>\n",
       "      <th>...</th>\n",
       "      <td>...</td>\n",
       "      <td>...</td>\n",
       "      <td>...</td>\n",
       "      <td>...</td>\n",
       "      <td>...</td>\n",
       "      <td>...</td>\n",
       "      <td>...</td>\n",
       "      <td>...</td>\n",
       "      <td>...</td>\n",
       "      <td>...</td>\n",
       "      <td>...</td>\n",
       "      <td>...</td>\n",
       "      <td>...</td>\n",
       "      <td>...</td>\n",
       "      <td>...</td>\n",
       "      <td>...</td>\n",
       "      <td>...</td>\n",
       "      <td>...</td>\n",
       "      <td>...</td>\n",
       "    </tr>\n",
       "    <tr>\n",
       "      <th>88884</th>\n",
       "      <td>Accident</td>\n",
       "      <td>2022-12-26</td>\n",
       "      <td>Annapolis, MD</td>\n",
       "      <td>Minor</td>\n",
       "      <td>NaN</td>\n",
       "      <td>NaN</td>\n",
       "      <td>PIPER</td>\n",
       "      <td>PA-28-151</td>\n",
       "      <td>No</td>\n",
       "      <td>NaN</td>\n",
       "      <td>NaN</td>\n",
       "      <td>Personal</td>\n",
       "      <td>0.0</td>\n",
       "      <td>1.0</td>\n",
       "      <td>0.0</td>\n",
       "      <td>0.0</td>\n",
       "      <td>NaN</td>\n",
       "      <td>NaN</td>\n",
       "      <td>PIPER PA-28-151</td>\n",
       "    </tr>\n",
       "    <tr>\n",
       "      <th>88885</th>\n",
       "      <td>Accident</td>\n",
       "      <td>2022-12-26</td>\n",
       "      <td>Hampton, NH</td>\n",
       "      <td>NaN</td>\n",
       "      <td>NaN</td>\n",
       "      <td>NaN</td>\n",
       "      <td>BELLANCA</td>\n",
       "      <td>7ECA</td>\n",
       "      <td>No</td>\n",
       "      <td>NaN</td>\n",
       "      <td>NaN</td>\n",
       "      <td>NaN</td>\n",
       "      <td>0.0</td>\n",
       "      <td>0.0</td>\n",
       "      <td>0.0</td>\n",
       "      <td>0.0</td>\n",
       "      <td>NaN</td>\n",
       "      <td>NaN</td>\n",
       "      <td>BELLANCA 7ECA</td>\n",
       "    </tr>\n",
       "    <tr>\n",
       "      <th>88886</th>\n",
       "      <td>Accident</td>\n",
       "      <td>2022-12-26</td>\n",
       "      <td>Payson, AZ</td>\n",
       "      <td>Non-Fatal</td>\n",
       "      <td>Substantial</td>\n",
       "      <td>Airplane</td>\n",
       "      <td>AMERICAN CHAMPION AIRCRAFT</td>\n",
       "      <td>8GCBC</td>\n",
       "      <td>No</td>\n",
       "      <td>1.0</td>\n",
       "      <td>NaN</td>\n",
       "      <td>Personal</td>\n",
       "      <td>0.0</td>\n",
       "      <td>0.0</td>\n",
       "      <td>0.0</td>\n",
       "      <td>1.0</td>\n",
       "      <td>VMC</td>\n",
       "      <td>NaN</td>\n",
       "      <td>AMERICAN CHAMPION AIRCRAFT 8GCBC</td>\n",
       "    </tr>\n",
       "    <tr>\n",
       "      <th>88887</th>\n",
       "      <td>Accident</td>\n",
       "      <td>2022-12-26</td>\n",
       "      <td>Morgan, UT</td>\n",
       "      <td>NaN</td>\n",
       "      <td>NaN</td>\n",
       "      <td>NaN</td>\n",
       "      <td>CESSNA</td>\n",
       "      <td>210N</td>\n",
       "      <td>No</td>\n",
       "      <td>NaN</td>\n",
       "      <td>NaN</td>\n",
       "      <td>Personal</td>\n",
       "      <td>0.0</td>\n",
       "      <td>0.0</td>\n",
       "      <td>0.0</td>\n",
       "      <td>0.0</td>\n",
       "      <td>NaN</td>\n",
       "      <td>NaN</td>\n",
       "      <td>CESSNA 210N</td>\n",
       "    </tr>\n",
       "    <tr>\n",
       "      <th>88888</th>\n",
       "      <td>Accident</td>\n",
       "      <td>2022-12-29</td>\n",
       "      <td>Athens, GA</td>\n",
       "      <td>Minor</td>\n",
       "      <td>NaN</td>\n",
       "      <td>NaN</td>\n",
       "      <td>PIPER</td>\n",
       "      <td>PA-24-260</td>\n",
       "      <td>No</td>\n",
       "      <td>NaN</td>\n",
       "      <td>NaN</td>\n",
       "      <td>Personal</td>\n",
       "      <td>0.0</td>\n",
       "      <td>1.0</td>\n",
       "      <td>0.0</td>\n",
       "      <td>1.0</td>\n",
       "      <td>NaN</td>\n",
       "      <td>NaN</td>\n",
       "      <td>PIPER PA-24-260</td>\n",
       "    </tr>\n",
       "  </tbody>\n",
       "</table>\n",
       "<p>88889 rows × 19 columns</p>\n",
       "</div>"
      ],
      "text/plain": [
       "      Investigation.Type  Event.Date         Location Injury.Severity  \\\n",
       "0               Accident  1948-10-24  MOOSE CREEK, ID        Fatal(2)   \n",
       "1               Accident  1962-07-19   BRIDGEPORT, CA        Fatal(4)   \n",
       "2               Accident  1974-08-30    Saltville, VA        Fatal(3)   \n",
       "3               Accident  1977-06-19       EUREKA, CA        Fatal(2)   \n",
       "4               Accident  1979-08-02       Canton, OH        Fatal(1)   \n",
       "...                  ...         ...              ...             ...   \n",
       "88884           Accident  2022-12-26    Annapolis, MD           Minor   \n",
       "88885           Accident  2022-12-26      Hampton, NH             NaN   \n",
       "88886           Accident  2022-12-26       Payson, AZ       Non-Fatal   \n",
       "88887           Accident  2022-12-26       Morgan, UT             NaN   \n",
       "88888           Accident  2022-12-29       Athens, GA           Minor   \n",
       "\n",
       "      Aircraft.damage Aircraft.Category                        Make  \\\n",
       "0           Destroyed               NaN                     STINSON   \n",
       "1           Destroyed               NaN                       PIPER   \n",
       "2           Destroyed               NaN                      CESSNA   \n",
       "3           Destroyed               NaN                    ROCKWELL   \n",
       "4           Destroyed               NaN                      CESSNA   \n",
       "...               ...               ...                         ...   \n",
       "88884             NaN               NaN                       PIPER   \n",
       "88885             NaN               NaN                    BELLANCA   \n",
       "88886     Substantial          Airplane  AMERICAN CHAMPION AIRCRAFT   \n",
       "88887             NaN               NaN                      CESSNA   \n",
       "88888             NaN               NaN                       PIPER   \n",
       "\n",
       "           Model Amateur.Built  Number.of.Engines    Engine.Type  \\\n",
       "0          108-3            No                1.0  Reciprocating   \n",
       "1       PA24-180            No                1.0  Reciprocating   \n",
       "2           172M            No                1.0  Reciprocating   \n",
       "3            112            No                1.0  Reciprocating   \n",
       "4            501            No                NaN            NaN   \n",
       "...          ...           ...                ...            ...   \n",
       "88884  PA-28-151            No                NaN            NaN   \n",
       "88885       7ECA            No                NaN            NaN   \n",
       "88886      8GCBC            No                1.0            NaN   \n",
       "88887       210N            No                NaN            NaN   \n",
       "88888  PA-24-260            No                NaN            NaN   \n",
       "\n",
       "      Purpose.of.flight  Total.Fatal.Injuries  Total.Serious.Injuries  \\\n",
       "0              Personal                   2.0                     0.0   \n",
       "1              Personal                   4.0                     0.0   \n",
       "2              Personal                   3.0                     NaN   \n",
       "3              Personal                   2.0                     0.0   \n",
       "4              Personal                   1.0                     2.0   \n",
       "...                 ...                   ...                     ...   \n",
       "88884          Personal                   0.0                     1.0   \n",
       "88885               NaN                   0.0                     0.0   \n",
       "88886          Personal                   0.0                     0.0   \n",
       "88887          Personal                   0.0                     0.0   \n",
       "88888          Personal                   0.0                     1.0   \n",
       "\n",
       "       Total.Minor.Injuries  Total.Uninjured Weather.Condition  \\\n",
       "0                       0.0              0.0               UNK   \n",
       "1                       0.0              0.0               UNK   \n",
       "2                       NaN              NaN               IMC   \n",
       "3                       0.0              0.0               IMC   \n",
       "4                       NaN              0.0               VMC   \n",
       "...                     ...              ...               ...   \n",
       "88884                   0.0              0.0               NaN   \n",
       "88885                   0.0              0.0               NaN   \n",
       "88886                   0.0              1.0               VMC   \n",
       "88887                   0.0              0.0               NaN   \n",
       "88888                   0.0              1.0               NaN   \n",
       "\n",
       "      Broad.phase.of.flight                        Make_Model  \n",
       "0                    Cruise                     STINSON 108-3  \n",
       "1                   Unknown                    PIPER PA24-180  \n",
       "2                    Cruise                       CESSNA 172M  \n",
       "3                    Cruise                      ROCKWELL 112  \n",
       "4                  Approach                        CESSNA 501  \n",
       "...                     ...                               ...  \n",
       "88884                   NaN                   PIPER PA-28-151  \n",
       "88885                   NaN                     BELLANCA 7ECA  \n",
       "88886                   NaN  AMERICAN CHAMPION AIRCRAFT 8GCBC  \n",
       "88887                   NaN                       CESSNA 210N  \n",
       "88888                   NaN                   PIPER PA-24-260  \n",
       "\n",
       "[88889 rows x 19 columns]"
      ]
     },
     "execution_count": 91,
     "metadata": {},
     "output_type": "execute_result"
    }
   ],
   "source": [
    "# Concatinate Make and Model column to form one column (Make_Model)\n",
    "df[\"Make_Model\"] = df[\"Make\"].str.strip().str.upper()+ \" \" +df[\"Model\"].str.strip().str.upper()\n",
    "df"
   ]
  },
  {
   "cell_type": "markdown",
   "id": "bf0d1e7a-f906-4796-979e-e714613a9fb5",
   "metadata": {},
   "source": [
    "Data cleaning on (['Total Fatal Injuries'],['Total Serious Injuries'],['Total Minor Injuries'],['Total Uninjered']) columns"
   ]
  },
  {
   "cell_type": "code",
   "execution_count": 92,
   "id": "844ee803-11ba-473f-8230-800615f53162",
   "metadata": {},
   "outputs": [],
   "source": [
    "# Filling missing values in the (['Total Fatal Injuries'],['Total Serious Injuries'],['Total Minor Injuries'],['Total Uninjered']) columns with 0\n",
    "df.loc[:,'Total.Fatal.Injuries']=df['Total.Fatal.Injuries'].fillna(0)\n",
    "df.loc[:,'Total.Serious.Injuries']=df['Total.Serious.Injuries'].fillna(0)\n",
    "df.loc[:,'Total.Minor.Injuries']=df['Total.Minor.Injuries'].fillna(0)\n",
    "df.loc[:,'Total.Uninjured'] = df['Total.Uninjured'].fillna(0)"
   ]
  },
  {
   "cell_type": "code",
   "execution_count": 93,
   "id": "9ecc9962-f4c2-4943-acff-0370c849dc30",
   "metadata": {},
   "outputs": [],
   "source": [
    "# Replacing Incident by Accident in the Investigation type column\n",
    "df.loc[:,\"Investigation.Type\"]= df[\"Investigation.Type\"].replace(\"Incident\",\"Accident\")"
   ]
  },
  {
   "cell_type": "code",
   "execution_count": 94,
   "id": "f875ff16-6a47-4fa4-a0a3-57ae49e59876",
   "metadata": {},
   "outputs": [
    {
     "data": {
      "text/plain": [
       "35"
      ]
     },
     "execution_count": 94,
     "metadata": {},
     "output_type": "execute_result"
    }
   ],
   "source": [
    "# Checking for duplicates\n",
    "df.duplicated().sum()"
   ]
  },
  {
   "cell_type": "code",
   "execution_count": 95,
   "id": "9547bb40-8559-40a3-9e82-7c5031c0f622",
   "metadata": {},
   "outputs": [
    {
     "data": {
      "text/plain": [
       "0"
      ]
     },
     "execution_count": 95,
     "metadata": {},
     "output_type": "execute_result"
    }
   ],
   "source": [
    "# Droping duplicates\n",
    "df=df.drop_duplicates()\n",
    "df.duplicated().sum()"
   ]
  },
  {
   "cell_type": "markdown",
   "id": "a184968e-ec2b-4414-9c72-537b3b5837bd",
   "metadata": {},
   "source": [
    "Data cleaning on \"Number of Engines\" column"
   ]
  },
  {
   "cell_type": "code",
   "execution_count": 96,
   "id": "b04277ad-a950-441b-9390-a66ef1cec5e6",
   "metadata": {},
   "outputs": [
    {
     "data": {
      "text/plain": [
       "array([ 1., nan,  2.,  0.,  3.,  4.,  8.,  6.])"
      ]
     },
     "execution_count": 96,
     "metadata": {},
     "output_type": "execute_result"
    }
   ],
   "source": [
    "# Checking for unique values\n",
    "df[\"Number.of.Engines\"].unique()"
   ]
  },
  {
   "cell_type": "code",
   "execution_count": 97,
   "id": "794cd810-1439-43cb-b808-fea3e6176068",
   "metadata": {},
   "outputs": [
    {
     "data": {
      "text/plain": [
       "1.1465556817358107"
      ]
     },
     "execution_count": 97,
     "metadata": {},
     "output_type": "execute_result"
    }
   ],
   "source": [
    "# Finding the mean of Number of Engines column\n",
    "df[\"Number.of.Engines\"].mean()"
   ]
  },
  {
   "cell_type": "code",
   "execution_count": 98,
   "id": "4d062f7d-a40a-4a3a-812e-388a2eee514e",
   "metadata": {},
   "outputs": [
    {
     "data": {
      "text/plain": [
       "1.0"
      ]
     },
     "execution_count": 98,
     "metadata": {},
     "output_type": "execute_result"
    }
   ],
   "source": [
    "df[\"Number.of.Engines\"].median()"
   ]
  },
  {
   "cell_type": "markdown",
   "id": "b72760e6-80fd-4505-ace7-93f038baf77a",
   "metadata": {},
   "source": [
    "* Number of Engines column contain a numerical continous data, that have a positively skewed distribution. So ill use the median as the\n",
    "measure of central tendancy instead of mean, because mean is sensitive to outliers."
   ]
  },
  {
   "cell_type": "code",
   "execution_count": 99,
   "id": "58a31902-3573-403d-8b3f-ebe9684b5d61",
   "metadata": {},
   "outputs": [
    {
     "data": {
      "text/plain": [
       "array([1., 2., 0., 3., 4., 8., 6.])"
      ]
     },
     "execution_count": 99,
     "metadata": {},
     "output_type": "execute_result"
    }
   ],
   "source": [
    "# Filling NaN values in the Number of Engines column with the median instade of mean because Number\n",
    "df.loc[:,\"Number.of.Engines\"]=df[\"Number.of.Engines\"].fillna(df[\"Number.of.Engines\"].median())\n",
    "df[\"Number.of.Engines\"].unique()"
   ]
  },
  {
   "cell_type": "code",
   "execution_count": 100,
   "id": "808a5e95-90dc-4fc8-bd60-c15f99653b7e",
   "metadata": {},
   "outputs": [
    {
     "data": {
      "text/plain": [
       "0"
      ]
     },
     "execution_count": 100,
     "metadata": {},
     "output_type": "execute_result"
    }
   ],
   "source": [
    "#Checking for nall values\n",
    "df[\"Number.of.Engines\"].isna().sum()"
   ]
  },
  {
   "cell_type": "markdown",
   "id": "544ace8b-3bf5-492c-ad39-9b414e7cd92e",
   "metadata": {},
   "source": [
    "## Data analysis\n"
   ]
  },
  {
   "cell_type": "markdown",
   "id": "06d80477-cb8d-45f3-b8b6-f0d6fd3b5c9b",
   "metadata": {},
   "source": [
    "Analyzing top 10 aircraft Make by accident counts"
   ]
  },
  {
   "cell_type": "code",
   "execution_count": 101,
   "id": "96d9a142-9f9c-48b4-be73-48f937b925c8",
   "metadata": {},
   "outputs": [
    {
     "data": {
      "text/plain": [
       "Text(0, 0.5, 'Aircraft Make')"
      ]
     },
     "execution_count": 101,
     "metadata": {},
     "output_type": "execute_result"
    },
    {
     "data": {
      "image/png": "[encoded data removed]",
      "text/plain": [
       "<Figure size 800x500 with 1 Axes>"
      ]
     },
     "metadata": {},
     "output_type": "display_data"
    }
   ],
   "source": [
    "df.loc[:,\"Make\"]=df[\"Make\"].fillna(\"Unknown\").str.strip().str.upper()\n",
    "Top_aircraft_Make =df[\"Make\"].value_counts().head(10)\n",
    "\n",
    "#Barplot on Make by Accident counts\n",
    "bar_chart_title = \"Top 10 Aircraft Make by accident counts\"\n",
    "\n",
    "plt.figure(figsize=(8,5))\n",
    "sns.barplot(x=Top_aircraft_Make.values, y=Top_aircraft_Make.index, color = \"blue\")\n",
    "plt.title(\"Top 10 Aircraft Make by Accident counts\")\n",
    "plt.xlabel(\"Accident counts\")\n",
    "plt.ylabel(\"Aircraft Make\")\n"
   ]
  },
  {
   "cell_type": "markdown",
   "id": "e1ccabe8-5ae4-4ce5-89d2-b7795d776e8a",
   "metadata": {},
   "source": [
    " Analyzing Top Aircraft Make and Model by accident counts"
   ]
  },
  {
   "cell_type": "code",
   "execution_count": 102,
   "id": "49c16154-1dd0-4992-a706-7a42dd684f8c",
   "metadata": {},
   "outputs": [
    {
     "data": {
      "text/plain": [
       "Text(0, 0.5, 'Aircraft Make + Model')"
      ]
     },
     "execution_count": 102,
     "metadata": {},
     "output_type": "execute_result"
    },
    {
     "data": {
      "image/png": "[encoded data removed]",
      "text/plain": [
       "<Figure size 700x400 with 1 Axes>"
      ]
     },
     "metadata": {},
     "output_type": "display_data"
    }
   ],
   "source": [
    "df.loc[:,\"Make_Model\"] = df[\"Make\"].str.strip().str.upper()+ \" \" +df[\"Model\"].str.strip().str.upper()\n",
    "top_make_model = df[\"Make_Model\"].value_counts().head(15)\n",
    "\n",
    "#Bar plot of top 15 [Make_Model] by accident counts\n",
    "\n",
    "plt.figure(figsize=(7,4))\n",
    "sns.barplot(x=top_make_model.values, y=top_make_model.index,color=\"skyblue\")\n",
    "plt.title(\"Top 15 Aircraft Make and Model by Accident counts\")\n",
    "plt.xlabel(\"Accident counts\")\n",
    "plt.ylabel(\"Aircraft Make + Model\")\n"
   ]
  },
  {
   "cell_type": "markdown",
   "id": "78954e5a-e474-400c-b47d-3374d8d4a1b7",
   "metadata": {},
   "source": [
    " Analyzing the Top 15 aircraft Make and Model by Fatality"
   ]
  },
  {
   "cell_type": "code",
   "execution_count": 103,
   "id": "9539af48-c39f-49a2-ba62-2fc81ea2f5dc",
   "metadata": {},
   "outputs": [
    {
     "data": {
      "text/plain": [
       "Text(0, 0.5, 'Aircraft Make_Model')"
      ]
     },
     "execution_count": 103,
     "metadata": {},
     "output_type": "execute_result"
    },
    {
     "data": {
      "image/png": "[encoded data removed]",
      "text/plain": [
       "<Figure size 640x480 with 1 Axes>"
      ]
     },
     "metadata": {},
     "output_type": "display_data"
    }
   ],
   "source": [
    "df.loc[:,\"Make_Model\"] = df[\"Make\"].str.strip().str.upper()+ \" \" +df[\"Model\"].str.strip().str.upper()\n",
    "\n",
    "#Bar plot of the Top aircraft Make and model by Total Fatal Injuries\n",
    "fatality_by_make_model = df.groupby(\"Make_Model\")[\"Total.Fatal.Injuries\"].sum().sort_values(ascending=False).head(15)\n",
    "\n",
    "sns.barplot(x=fatality_by_make_model.values,y=fatality_by_make_model.index, color =\"brown\")\n",
    "plt.title(\"Top Aircraft Make_Model by Total Fatal Injuries\")\n",
    "plt.xlabel(\"Total.Fatal.Injuries\")\n",
    "plt.ylabel(\"Aircraft Make_Model\")\n",
    "#plt.savefig(\"AircraftbyFatality.png\", bbox_inches=\"tight\")"
   ]
  },
  {
   "cell_type": "markdown",
   "id": "3fd57719-3236-4062-8f67-7934947bae40",
   "metadata": {},
   "source": [
    "Analyzing Number of Engines by Accident counts\n"
   ]
  },
  {
   "cell_type": "code",
   "execution_count": 104,
   "id": "d8178b4b-8a4d-40b1-9d96-b53140e06a39",
   "metadata": {},
   "outputs": [
    {
     "data": {
      "text/plain": [
       "Text(0, 0.5, 'Accident count')"
      ]
     },
     "execution_count": 104,
     "metadata": {},
     "output_type": "execute_result"
    },
    {
     "data": {
      "image/png": "[encoded data removed]",
      "text/plain": [
       "<Figure size 800x600 with 1 Axes>"
      ]
     },
     "metadata": {},
     "output_type": "display_data"
    }
   ],
   "source": [
    "df.loc[:,\"Number.of.Engines\"]=df[\"Number.of.Engines\"].fillna(df[\"Number.of.Engines\"].median())\n",
    "\n",
    "#Bar plot of Number of Engines by Accident counts\n",
    "Engine_num=df[\"Number.of.Engines\"].value_counts().head(13)\n",
    "\n",
    "plt.figure(figsize=(8,6))\n",
    "sns.barplot(y=Engine_num.values, x=Engine_num.index,color=\"blue\")\n",
    "plt.title(\"Number of Engines  by Accident count\")\n",
    "plt.xlabel(\"Number of Engines\")\n",
    "plt.ylabel(\"Accident count\") \n"
   ]
  },
  {
   "cell_type": "markdown",
   "id": "03ab0fe5-6df8-4965-9ac0-a4b890f89932",
   "metadata": {},
   "source": [
    " Data cleaning on Purpose of flight column"
   ]
  },
  {
   "cell_type": "code",
   "execution_count": 105,
   "id": "c94f958f-44b4-4a25-b301-ecd34ac9048e",
   "metadata": {},
   "outputs": [
    {
     "data": {
      "text/plain": [
       "array(['Personal', nan, 'Business', 'Instructional', 'Unknown', 'Ferry',\n",
       "       'Executive/corporate', 'Aerial Observation', 'Aerial Application',\n",
       "       'Public Aircraft', 'Skydiving', 'Other Work Use', 'Positioning',\n",
       "       'Flight Test', 'Air Race/show', 'Air Drop',\n",
       "       'Public Aircraft - Federal', 'Glider Tow',\n",
       "       'Public Aircraft - Local', 'External Load',\n",
       "       'Public Aircraft - State', 'Banner Tow', 'Firefighting',\n",
       "       'Air Race show', 'PUBS', 'ASHO', 'PUBL'], dtype=object)"
      ]
     },
     "execution_count": 105,
     "metadata": {},
     "output_type": "execute_result"
    }
   ],
   "source": [
    "df[\"Purpose.of.flight\"].unique()"
   ]
  },
  {
   "cell_type": "code",
   "execution_count": 106,
   "id": "a14e4923-8f5d-40f9-84ef-07e44b79a0fa",
   "metadata": {},
   "outputs": [
    {
     "data": {
      "text/plain": [
       "6189"
      ]
     },
     "execution_count": 106,
     "metadata": {},
     "output_type": "execute_result"
    }
   ],
   "source": [
    "# checking the total number of NaN values\n",
    "df[\"Purpose.of.flight\"].isna().sum()"
   ]
  },
  {
   "cell_type": "markdown",
   "id": "827bcfdc-10f5-4df8-baeb-a725ca05ab09",
   "metadata": {},
   "source": [
    "* Purpose of flight is a nominal-categorical variable so I use the modal value to fill in the missing values(NaNs)"
   ]
  },
  {
   "cell_type": "code",
   "execution_count": 107,
   "id": "da226b78-aae8-43dc-8b1b-79dc1817e77a",
   "metadata": {},
   "outputs": [
    {
     "data": {
      "text/plain": [
       "0    Personal\n",
       "Name: Purpose.of.flight, dtype: object"
      ]
     },
     "execution_count": 107,
     "metadata": {},
     "output_type": "execute_result"
    }
   ],
   "source": [
    "#Finding the mode in Purpose of flight column\n",
    "df[\"Purpose.of.flight\"].mode()"
   ]
  },
  {
   "cell_type": "code",
   "execution_count": 108,
   "id": "fb8753b6-2453-43f2-8cf6-003fa077de2b",
   "metadata": {},
   "outputs": [
    {
     "data": {
      "text/plain": [
       "0"
      ]
     },
     "execution_count": 108,
     "metadata": {},
     "output_type": "execute_result"
    }
   ],
   "source": [
    "#Filling the NaNs with the mode\n",
    "df.loc[:,\"Purpose.of.flight\"]=df[\"Purpose.of.flight\"].fillna(\"Personal\")\n",
    "df[\"Purpose.of.flight\"].isna().sum()"
   ]
  },
  {
   "cell_type": "code",
   "execution_count": 109,
   "id": "496a11a8-b2db-4582-adc1-1f95f4818a82",
   "metadata": {},
   "outputs": [],
   "source": [
    "#Replacing the Unknown in the Purpose of flight column with the modal value\n",
    "df.loc[:,\"Purpose.of.flight\"]=df[\"Purpose.of.flight\"].str.replace(\"Unknown\",\"Personal\")"
   ]
  },
  {
   "cell_type": "markdown",
   "id": "4cc864e7-ce03-4692-965a-864f063cfb1c",
   "metadata": {},
   "source": [
    "Data Analysis on purpose of flight column"
   ]
  },
  {
   "cell_type": "code",
   "execution_count": 110,
   "id": "5cfc5224-c441-4c13-bb66-e342215ffa85",
   "metadata": {},
   "outputs": [
    {
     "data": {
      "text/plain": [
       "Text(0, 0.5, 'purpose of flight')"
      ]
     },
     "execution_count": 110,
     "metadata": {},
     "output_type": "execute_result"
    },
    {
     "data": {
      "image/png": "[encoded data removed]",
      "text/plain": [
       "<Figure size 800x600 with 1 Axes>"
      ]
     },
     "metadata": {},
     "output_type": "display_data"
    }
   ],
   "source": [
    "\n",
    "\n",
    "purpose_flight = df[\"Purpose.of.flight\"].value_counts().head(10)\n",
    "# Bar plot of Purpose of flight by Accident counts\n",
    "plt.figure(figsize=(8,6))\n",
    "sns.barplot(x=purpose_flight.values, y=purpose_flight.index,color=\"blue\")\n",
    "plt.title(\"Purpose of flight by Accident count\")\n",
    "plt.xlabel(\"Accident count\")\n",
    "plt.ylabel(\"purpose of flight\") \n",
    "\n"
   ]
  },
  {
   "cell_type": "code",
   "execution_count": 111,
   "id": "778a5f66-0eb7-4a96-88de-58c8fca94958",
   "metadata": {},
   "outputs": [],
   "source": [
    "#df.to_csv(\"cleaned_data.csv\",index=False)"
   ]
  },
  {
   "cell_type": "markdown",
   "id": "15c6c64e-9f27-436c-8f33-3dffbd2b8abd",
   "metadata": {},
   "source": [
    "# Results"
   ]
  },
  {
   "cell_type": "markdown",
   "id": "cb3a824e-d3a1-40c2-8de3-241363ffbf5c",
   "metadata": {},
   "source": [
    "1. From my first analysis of aircraft Make by the number of accident counts, I figured that Cessna have the highest number of accident counts followed by Piper. interms of aircraft Model Cessna 152 had the highest accident counts followed by Cessna 172 then 172N model. Considering Piper, model PA-28-140 have the leading accident counts.\n",
    "\n",
    "2. Comparing the Fatality rate agaist Make and Model, I figured that Boeing 737 model have the highest fatality rate, followed by Boeing 737-200 model.\n",
    "\n",
    "3. Personal flights displayed the highest accident counts.\n",
    "\n",
    "4. Aircrafts with 1 number of engine displayed the highest accident counts."
   ]
  },
  {
   "cell_type": "markdown",
   "id": "6e9173aa-5207-4eb4-8eb1-ef3960a3c427",
   "metadata": {},
   "source": [
    "# Conclusions"
   ]
  },
  {
   "cell_type": "markdown",
   "id": "3da162ff-f1d6-4a29-bfdf-2e6b9cfe2837",
   "metadata": {},
   "source": [
    "1. Comparing the Fatality rate by Make-Model, Boeing showed the highest fatality rate compared to other aircrafts. Boeing aircrafts are larger in size and are most commonly used for commercial services, they carry a lot more passengers compared to other aircrafts like Cessna, Piper, Beech. This increases its mortality rate with few accident counts.\n",
    "\n",
    "2. Purpose of flight-personal flights are airplanes that are used for personal reasons. From the analysis, they displayed the highest accident counts compared to commercial aircrafts.\n",
    "\n",
    "3.  Number of engine. aircrafts with 1 engine showed the highest accident counts compared to aircrafts with multi-engine. The company should invest in aircrafts with twin-engine in-case of one engine failure. The company shoudn't consider Aircrafts with 4,6,8 engines as they more complex to opperate and require specialist, the company can only invest in them only if it is necessary."
   ]
  },
  {
   "cell_type": "markdown",
   "id": "f7891229-71cf-4232-bda4-90e887e3edbc",
   "metadata": {},
   "source": [
    "# Recommendations"
   ]
  },
  {
   "cell_type": "markdown",
   "id": "9d5c1009-ed36-45a1-8a23-ab619d483746",
   "metadata": {},
   "source": [
    "\n",
    "1. For commercial airlines the company should take note of Boeing 737, 737-200 models high fatality rate and prefer other Boeing models, or invest in other commercial airlines like Airbus which displayed reduced fatality rate.\n",
    "2. For personal airplanes the company should take note of Cessna highest accident counts especially Cessna 152 model and go with other personal models with reduced accident counts, models like Hughes, Grumman, Robinson, Mooney, Beech.\n",
    "3. Purpose of Flight: The company can consider investing more on commercial aircrafts because they are generally safer than the personal airlines.\n",
    "4.  The company should consider investing in aircrafts with twin engines for redundacy incase of one engine failure.\n"
   ]
  }
 ],
 "metadata": {
  "kernelspec": {
   "display_name": "Python 3 (ipykernel)",
   "language": "python",
   "name": "python3"
  },
  "language_info": {
   "codemirror_mode": {
    "name": "ipython",
    "version": 3
   },
   "file_extension": ".py",
   "mimetype": "text/x-python",
   "name": "python",
   "nbconvert_exporter": "python",
   "pygments_lexer": "ipython3",
   "version": "3.11.7"
  }
 },
 "nbformat": 4,
 "nbformat_minor": 5
}
